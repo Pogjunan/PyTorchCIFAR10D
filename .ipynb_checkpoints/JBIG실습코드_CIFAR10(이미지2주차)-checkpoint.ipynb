{
 "cells": [
  {
   "cell_type": "markdown",
   "metadata": {
    "id": "Mf6E4wQapSfa"
   },
   "source": [
    "# 문제\n",
    "\n",
    "1. 얼리스탑핑 추가(3번이상 valid loss가 높으면 정지)\n",
    "\n",
    "2. 스케쥴러 추가\n",
    "\n",
    "3. paperswithcode 에서 cifar-10 데이터셋에서 좋은 성능을 보이는 모델을 timm에서 찾아 적용해보세요."
   ]
  },
  {
   "cell_type": "code",
   "execution_count": 1,
   "metadata": {
    "id": "_f8aEXE-Vow5",
    "tags": []
   },
   "outputs": [],
   "source": [
    "#!pip install albumentations timm"
   ]
  },
  {
   "cell_type": "code",
   "execution_count": 2,
   "metadata": {
    "tags": []
   },
   "outputs": [],
   "source": [
    "import timm"
   ]
  },
  {
   "cell_type": "code",
   "execution_count": 3,
   "metadata": {
    "tags": []
   },
   "outputs": [
    {
     "data": {
      "text/plain": [
       "(1298,\n",
       " ['bat_resnext26ts.ch_in1k',\n",
       "  'beit_base_patch16_224.in22k_ft_in22k',\n",
       "  'beit_base_patch16_224.in22k_ft_in22k_in1k',\n",
       "  'beit_base_patch16_384.in22k_ft_in22k_in1k',\n",
       "  'beit_large_patch16_224.in22k_ft_in22k'])"
      ]
     },
     "execution_count": 3,
     "metadata": {},
     "output_type": "execute_result"
    }
   ],
   "source": [
    "avail_pretrained_models = timm.list_models(pretrained=True)\n",
    "len(avail_pretrained_models), avail_pretrained_models[:5]"
   ]
  },
  {
   "cell_type": "code",
   "execution_count": 4,
   "metadata": {
    "id": "Gb5kcVZmpSfe",
    "tags": []
   },
   "outputs": [
    {
     "name": "stdout",
     "output_type": "stream",
     "text": [
      "Files already downloaded and verified\n",
      "Files already downloaded and verified\n"
     ]
    }
   ],
   "source": [
    "import torch\n",
    "import torchvision\n",
    "import torchvision.transforms as transforms\n",
    "import torch.nn as nn\n",
    "import torch.optim as optim\n",
    "import torchvision.models as models\n",
    "\n",
    "# Define data augmentation transforms\n",
    "train_transform = transforms.Compose([\n",
    "    transforms.ToTensor(),\n",
    "    transforms.Normalize((0.5, 0.5, 0.5), (0.5, 0.5, 0.5))\n",
    "])\n",
    "\n",
    "test_transform = transforms.Compose([\n",
    "    transforms.ToTensor(),\n",
    "    transforms.Normalize((0.5, 0.5, 0.5), (0.5, 0.5, 0.5))\n",
    "])\n",
    "\n",
    "# Load CIFAR-10 dataset\n",
    "trainset = torchvision.datasets.CIFAR10(root='./data', train=True, download=True, transform=train_transform)\n",
    "\n",
    "# Reduce the total amount of data by half\n",
    "trainset, _ = torch.utils.data.random_split(trainset, [len(trainset) // 4 * 3, len(trainset) // 4])\n",
    "\n",
    "train_size = int(0.8 * len(trainset))\n",
    "valid_size = len(trainset) - train_size\n",
    "train_dataset, valid_dataset = torch.utils.data.random_split(trainset, [train_size, valid_size])\n",
    "\n",
    "trainloader = torch.utils.data.DataLoader(train_dataset, batch_size=32, shuffle=True, num_workers=2)\n",
    "validloader = torch.utils.data.DataLoader(valid_dataset, batch_size=32, shuffle=False, num_workers=2)\n",
    "\n",
    "testset = torchvision.datasets.CIFAR10(root='./data', train=False, download=True, transform=test_transform)\n",
    "testloader = torch.utils.data.DataLoader(testset, batch_size=32, shuffle=False, num_workers=2)\n"
   ]
  },
  {
   "cell_type": "code",
   "execution_count": 5,
   "metadata": {
    "id": "apM_OWotpSff",
    "tags": []
   },
   "outputs": [
    {
     "ename": "ModuleNotFoundError",
     "evalue": "No module named 'cifar10_models'",
     "output_type": "error",
     "traceback": [
      "\u001b[0;31m---------------------------------------------------------------------------\u001b[0m",
      "\u001b[0;31mModuleNotFoundError\u001b[0m                       Traceback (most recent call last)",
      "Cell \u001b[0;32mIn[5], line 1\u001b[0m\n\u001b[0;32m----> 1\u001b[0m \u001b[38;5;28;01mfrom\u001b[39;00m \u001b[38;5;21;01mcifar10_models\u001b[39;00m\u001b[38;5;21;01m.\u001b[39;00m\u001b[38;5;21;01mvgg\u001b[39;00m \u001b[38;5;28;01mimport\u001b[39;00m vgg11_bn, vgg13_bn, vgg16_bn, vgg19_bn\n\u001b[1;32m      3\u001b[0m \u001b[38;5;66;03m# Untrained model\u001b[39;00m\n\u001b[1;32m      4\u001b[0m model \u001b[38;5;241m=\u001b[39m vgg11_bn()\n",
      "\u001b[0;31mModuleNotFoundError\u001b[0m: No module named 'cifar10_models'"
     ]
    }
   ],
   "source": [
    "from cifar10_models.vgg import vgg11_bn, vgg13_bn, vgg16_bn, vgg19_bn\n",
    "\n",
    "# Untrained model\n",
    "model = vgg11_bn()\n",
    "\n",
    "# Pretrained model\n",
    "model = vgg11_bn(pretrained=True)\n",
    "\n",
    "\n",
    "\n",
    "# Load pre-trained ResNet-34 model\n",
    "#model = models.resnet34(pretrained=False)\n",
    "\n",
    "model.fc = nn.Linear(512, 10)\n",
    "\n",
    "# loss function, optimizer 설정\n",
    "criterion = nn.CrossEntropyLoss()\n",
    "optimizer = optim.SGD(model.parameters(), lr=0.001, momentum=0.9)\n",
    "\n",
    "# gpu 설정\n",
    "device = torch.device(\"cuda:0\" if torch.cuda.is_available() else \"cpu\")\n",
    "model.to(device)"
   ]
  },
  {
   "cell_type": "code",
   "execution_count": null,
   "metadata": {
    "tags": []
   },
   "outputs": [],
   "source": [
    "from tqdm import tqdm"
   ]
  },
  {
   "cell_type": "code",
   "execution_count": null,
   "metadata": {
    "id": "mUVfSSIWpSfg",
    "tags": []
   },
   "outputs": [],
   "source": [
    "from torch.optim.lr_scheduler import ReduceLROnPlateau\n",
    "import numpy as np\n",
    "\n",
    "# Define scheduler\n",
    "scheduler = ReduceLROnPlateau(optimizer, mode='min', patience=2, verbose=True)\n",
    "\n",
    "# Define early stopping variables\n",
    "best_valid_loss = float('inf')\n",
    "early_stopping_patience = 5\n",
    "early_stopping_counter = 0\n",
    "\n",
    "for epoch in range(20):  # Train for 20 epochs\n",
    "    print(epoch + 1,'에포크 학습 시작')\n",
    "    train_loss = 0.0\n",
    "    valid_loss = 0.0\n",
    "    model.train()\n",
    "    print('training...')\n",
    "    for img, label in tqdm(iter(trainloader)):\n",
    "        inputs, labels = img.to(device), label.to(device)\n",
    "        optimizer.zero_grad()\n",
    "\n",
    "        outputs = model(inputs)\n",
    "        loss = criterion(outputs, labels)\n",
    "        loss.backward()\n",
    "        optimizer.step()\n",
    "\n",
    "        train_loss += loss.item()\n",
    "\n",
    "    model.eval()\n",
    "    print('validating...')\n",
    "    with torch.no_grad():\n",
    "        for img, label in tqdm(iter(validloader)):\n",
    "            inputs, labels = img.to(device), label.to(device)\n",
    "            outputs = model(inputs)\n",
    "            loss = criterion(outputs, labels)\n",
    "            valid_loss += loss.item()\n",
    "\n",
    "    # Adjust learning rate using scheduler\n",
    "    scheduler.step(valid_loss / len(validloader))\n",
    "\n",
    "    # Early stopping\n",
    "    if valid_loss < best_valid_loss:\n",
    "        best_valid_loss = valid_loss\n",
    "        torch.save(model.state_dict(), 'best_model.pt')\n",
    "        early_stopping_counter = 0\n",
    "    else:\n",
    "        early_stopping_counter += 1\n",
    "\n",
    "    print(f'Epoch [{epoch + 1}/5], Train Loss: {train_loss / len(trainloader):.3f}, Valid Loss: {valid_loss / len(validloader):.3f}')\n",
    "    print('\\n')\n",
    "\n",
    "    # Check if early stopping criteria are met\n",
    "    if early_stopping_counter >= early_stopping_patience:\n",
    "        \n",
    "        print('Early stopping triggered. Training halted.')\n",
    "        break\n",
    "\n",
    "\n",
    "print('학습 완료')\n",
    "print('\\n')\n",
    "\n",
    "# 모델 예측\n",
    "correct = 0\n",
    "total = 0\n",
    "print('testing...')\n",
    "\n",
    "with torch.no_grad():\n",
    "    for img, label in tqdm(iter(testloader)):\n",
    "        images, labels = img.to(device), label.to(device)\n",
    "        outputs = model(images)\n",
    "        _, predicted = torch.max(outputs.data, 1)\n",
    "        total += labels.size(0)\n",
    "        correct += (predicted == labels).sum().item()\n",
    "\n",
    "print('test 데이터에 대한 정확도: %d %%' % (\n",
    "    100 * correct / total))"
   ]
  },
  {
   "cell_type": "code",
   "execution_count": null,
   "metadata": {
    "id": "TxqZiFqonnGy",
    "tags": []
   },
   "outputs": [],
   "source": [
    "print('test 데이터에 대한 정확도: %d %%' % (\n",
    "    100 * correct / total))"
   ]
  }
 ],
 "metadata": {
  "accelerator": "GPU",
  "colab": {
   "gpuType": "T4",
   "provenance": []
  },
  "kernelspec": {
   "display_name": "deep",
   "language": "python",
   "name": "deep"
  },
  "language_info": {
   "codemirror_mode": {
    "name": "ipython",
    "version": 3
   },
   "file_extension": ".py",
   "mimetype": "text/x-python",
   "name": "python",
   "nbconvert_exporter": "python",
   "pygments_lexer": "ipython3",
   "version": "3.10.13"
  }
 },
 "nbformat": 4,
 "nbformat_minor": 4
}
